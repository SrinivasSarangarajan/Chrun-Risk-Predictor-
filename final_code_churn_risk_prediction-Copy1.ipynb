{
 "cells": [
  {
   "cell_type": "code",
   "execution_count": 146,
   "id": "971f188b",
   "metadata": {
    "id": "971f188b"
   },
   "outputs": [],
   "source": [
    "# Import Necessary Libraries\n",
    "import numpy as np\n",
    "import pandas as pd \n",
    "import matplotlib.pyplot as plt \n",
    "import seaborn as sns\n",
    "\n",
    "\n",
    "%matplotlib inline"
   ]
  },
  {
   "cell_type": "code",
   "execution_count": null,
   "id": "060b762a",
   "metadata": {},
   "outputs": [],
   "source": []
  },
  {
   "cell_type": "code",
   "execution_count": 147,
   "id": "d9941f68",
   "metadata": {
    "colab": {
     "base_uri": "https://localhost:8080/",
     "height": 285
    },
    "id": "d9941f68",
    "outputId": "ded3f524-6f13-4325-c97f-561eb2fbfc13"
   },
   "outputs": [
    {
     "data": {
      "text/html": [
       "<div>\n",
       "<style scoped>\n",
       "    .dataframe tbody tr th:only-of-type {\n",
       "        vertical-align: middle;\n",
       "    }\n",
       "\n",
       "    .dataframe tbody tr th {\n",
       "        vertical-align: top;\n",
       "    }\n",
       "\n",
       "    .dataframe thead th {\n",
       "        text-align: right;\n",
       "    }\n",
       "</style>\n",
       "<table border=\"1\" class=\"dataframe\">\n",
       "  <thead>\n",
       "    <tr style=\"text-align: right;\">\n",
       "      <th></th>\n",
       "      <th>Interaction Number</th>\n",
       "      <th>Date of Interaction</th>\n",
       "      <th>Account number</th>\n",
       "      <th>Issue</th>\n",
       "      <th>Issue in detail</th>\n",
       "      <th>AHT</th>\n",
       "      <th>Churn</th>\n",
       "    </tr>\n",
       "  </thead>\n",
       "  <tbody>\n",
       "    <tr>\n",
       "      <th>0</th>\n",
       "      <td>100102013</td>\n",
       "      <td>10-01-2014</td>\n",
       "      <td>1.009659e+10</td>\n",
       "      <td>8</td>\n",
       "      <td>Screen damaged</td>\n",
       "      <td>20.0</td>\n",
       "      <td>Yes</td>\n",
       "    </tr>\n",
       "    <tr>\n",
       "      <th>1</th>\n",
       "      <td>100102014</td>\n",
       "      <td>10-01-2014</td>\n",
       "      <td>5.291498e+10</td>\n",
       "      <td>4</td>\n",
       "      <td>Dropped calls</td>\n",
       "      <td>40.0</td>\n",
       "      <td>Yes</td>\n",
       "    </tr>\n",
       "    <tr>\n",
       "      <th>2</th>\n",
       "      <td>100102015</td>\n",
       "      <td>10-01-2014</td>\n",
       "      <td>3.163961e+10</td>\n",
       "      <td>6</td>\n",
       "      <td>Need a cheaper unlimited plan</td>\n",
       "      <td>50.0</td>\n",
       "      <td>No</td>\n",
       "    </tr>\n",
       "    <tr>\n",
       "      <th>3</th>\n",
       "      <td>100102016</td>\n",
       "      <td>10-01-2014</td>\n",
       "      <td>1.598096e+10</td>\n",
       "      <td>10</td>\n",
       "      <td>Upgrade to a new phone</td>\n",
       "      <td>37.0</td>\n",
       "      <td>No</td>\n",
       "    </tr>\n",
       "    <tr>\n",
       "      <th>4</th>\n",
       "      <td>100102017</td>\n",
       "      <td>10-01-2014</td>\n",
       "      <td>9.652346e+10</td>\n",
       "      <td>1</td>\n",
       "      <td>Unlock device so that it can used on a differe...</td>\n",
       "      <td>22.0</td>\n",
       "      <td>Yes</td>\n",
       "    </tr>\n",
       "  </tbody>\n",
       "</table>\n",
       "</div>"
      ],
      "text/plain": [
       "   Interaction Number  Date of Interaction   Account number   Issue  \\\n",
       "0            100102013           10-01-2014     1.009659e+10      8   \n",
       "1            100102014           10-01-2014     5.291498e+10      4   \n",
       "2            100102015           10-01-2014     3.163961e+10      6   \n",
       "3            100102016           10-01-2014     1.598096e+10     10   \n",
       "4            100102017           10-01-2014     9.652346e+10      1   \n",
       "\n",
       "                                     Issue in detail   AHT Churn  \n",
       "0                                    Screen damaged   20.0   Yes  \n",
       "1                                     Dropped calls   40.0   Yes  \n",
       "2                     Need a cheaper unlimited plan   50.0    No  \n",
       "3                            Upgrade to a new phone   37.0    No  \n",
       "4  Unlock device so that it can used on a differe...  22.0   Yes  "
      ]
     },
     "execution_count": 147,
     "metadata": {},
     "output_type": "execute_result"
    }
   ],
   "source": [
    "df = pd.read_csv(\"D:\\Project amity/customer_query.csv\")\n",
    "df.head()"
   ]
  },
  {
   "cell_type": "code",
   "execution_count": 148,
   "id": "c8b0ea56",
   "metadata": {
    "colab": {
     "base_uri": "https://localhost:8080/",
     "height": 319
    },
    "id": "c8b0ea56",
    "outputId": "55c49f26-e9ab-4551-afc3-e56c4db08724"
   },
   "outputs": [
    {
     "data": {
      "text/html": [
       "<div>\n",
       "<style scoped>\n",
       "    .dataframe tbody tr th:only-of-type {\n",
       "        vertical-align: middle;\n",
       "    }\n",
       "\n",
       "    .dataframe tbody tr th {\n",
       "        vertical-align: top;\n",
       "    }\n",
       "\n",
       "    .dataframe thead th {\n",
       "        text-align: right;\n",
       "    }\n",
       "</style>\n",
       "<table border=\"1\" class=\"dataframe\">\n",
       "  <thead>\n",
       "    <tr style=\"text-align: right;\">\n",
       "      <th></th>\n",
       "      <th>Interaction Number</th>\n",
       "      <th>Date of Interaction</th>\n",
       "      <th>Account number</th>\n",
       "      <th>Issue</th>\n",
       "      <th>Issue in detail</th>\n",
       "      <th>AHT</th>\n",
       "      <th>Churn</th>\n",
       "    </tr>\n",
       "  </thead>\n",
       "  <tbody>\n",
       "    <tr>\n",
       "      <th>245</th>\n",
       "      <td>100102263</td>\n",
       "      <td>10-07-2014</td>\n",
       "      <td>1.750000e+11</td>\n",
       "      <td>7</td>\n",
       "      <td>need to check call and text logs</td>\n",
       "      <td>20.55</td>\n",
       "      <td>Yes</td>\n",
       "    </tr>\n",
       "    <tr>\n",
       "      <th>246</th>\n",
       "      <td>100102264</td>\n",
       "      <td>10-07-2014</td>\n",
       "      <td>1.760000e+11</td>\n",
       "      <td>9</td>\n",
       "      <td>Charges to cancel my account</td>\n",
       "      <td>20.55</td>\n",
       "      <td>Yes</td>\n",
       "    </tr>\n",
       "    <tr>\n",
       "      <th>247</th>\n",
       "      <td>100102265</td>\n",
       "      <td>10-07-2014</td>\n",
       "      <td>1.770000e+11</td>\n",
       "      <td>5</td>\n",
       "      <td>payment extension</td>\n",
       "      <td>12.45</td>\n",
       "      <td>Yes</td>\n",
       "    </tr>\n",
       "    <tr>\n",
       "      <th>248</th>\n",
       "      <td>100102266</td>\n",
       "      <td>10-07-2014</td>\n",
       "      <td>1.780000e+11</td>\n",
       "      <td>2</td>\n",
       "      <td>Apps to backup text message</td>\n",
       "      <td>20.55</td>\n",
       "      <td>Yes</td>\n",
       "    </tr>\n",
       "    <tr>\n",
       "      <th>249</th>\n",
       "      <td>100102267</td>\n",
       "      <td>10-07-2014</td>\n",
       "      <td>1.854214e+10</td>\n",
       "      <td>5</td>\n",
       "      <td>payment extension</td>\n",
       "      <td>10.52</td>\n",
       "      <td>Yes</td>\n",
       "    </tr>\n",
       "  </tbody>\n",
       "</table>\n",
       "</div>"
      ],
      "text/plain": [
       "     Interaction Number  Date of Interaction   Account number   Issue  \\\n",
       "245            100102263           10-07-2014     1.750000e+11      7   \n",
       "246            100102264           10-07-2014     1.760000e+11      9   \n",
       "247            100102265           10-07-2014     1.770000e+11      5   \n",
       "248            100102266           10-07-2014     1.780000e+11      2   \n",
       "249            100102267           10-07-2014     1.854214e+10      5   \n",
       "\n",
       "                      Issue in detail    AHT Churn  \n",
       "245  need to check call and text logs  20.55   Yes  \n",
       "246     Charges to cancel my account   20.55   Yes  \n",
       "247                 payment extension  12.45   Yes  \n",
       "248      Apps to backup text message   20.55   Yes  \n",
       "249                 payment extension  10.52   Yes  "
      ]
     },
     "execution_count": 148,
     "metadata": {},
     "output_type": "execute_result"
    }
   ],
   "source": [
    "df.tail()"
   ]
  },
  {
   "cell_type": "code",
   "execution_count": 149,
   "id": "872e2718",
   "metadata": {
    "id": "872e2718"
   },
   "outputs": [],
   "source": [
    "df.loc[df.Churn=='No','Churn']=0\n",
    "df.loc[df.Churn=='Yes','Churn']=1"
   ]
  },
  {
   "cell_type": "code",
   "execution_count": 150,
   "id": "26cbcf3f",
   "metadata": {
    "colab": {
     "base_uri": "https://localhost:8080/",
     "height": 285
    },
    "id": "26cbcf3f",
    "outputId": "bf7c7b61-52b4-4df3-cb32-0a95139f70d2"
   },
   "outputs": [
    {
     "data": {
      "text/html": [
       "<div>\n",
       "<style scoped>\n",
       "    .dataframe tbody tr th:only-of-type {\n",
       "        vertical-align: middle;\n",
       "    }\n",
       "\n",
       "    .dataframe tbody tr th {\n",
       "        vertical-align: top;\n",
       "    }\n",
       "\n",
       "    .dataframe thead th {\n",
       "        text-align: right;\n",
       "    }\n",
       "</style>\n",
       "<table border=\"1\" class=\"dataframe\">\n",
       "  <thead>\n",
       "    <tr style=\"text-align: right;\">\n",
       "      <th></th>\n",
       "      <th>Interaction Number</th>\n",
       "      <th>Date of Interaction</th>\n",
       "      <th>Account number</th>\n",
       "      <th>Issue</th>\n",
       "      <th>Issue in detail</th>\n",
       "      <th>AHT</th>\n",
       "      <th>Churn</th>\n",
       "    </tr>\n",
       "  </thead>\n",
       "  <tbody>\n",
       "    <tr>\n",
       "      <th>0</th>\n",
       "      <td>100102013</td>\n",
       "      <td>10-01-2014</td>\n",
       "      <td>1.009659e+10</td>\n",
       "      <td>8</td>\n",
       "      <td>Screen damaged</td>\n",
       "      <td>20.0</td>\n",
       "      <td>1</td>\n",
       "    </tr>\n",
       "    <tr>\n",
       "      <th>1</th>\n",
       "      <td>100102014</td>\n",
       "      <td>10-01-2014</td>\n",
       "      <td>5.291498e+10</td>\n",
       "      <td>4</td>\n",
       "      <td>Dropped calls</td>\n",
       "      <td>40.0</td>\n",
       "      <td>1</td>\n",
       "    </tr>\n",
       "    <tr>\n",
       "      <th>2</th>\n",
       "      <td>100102015</td>\n",
       "      <td>10-01-2014</td>\n",
       "      <td>3.163961e+10</td>\n",
       "      <td>6</td>\n",
       "      <td>Need a cheaper unlimited plan</td>\n",
       "      <td>50.0</td>\n",
       "      <td>0</td>\n",
       "    </tr>\n",
       "    <tr>\n",
       "      <th>3</th>\n",
       "      <td>100102016</td>\n",
       "      <td>10-01-2014</td>\n",
       "      <td>1.598096e+10</td>\n",
       "      <td>10</td>\n",
       "      <td>Upgrade to a new phone</td>\n",
       "      <td>37.0</td>\n",
       "      <td>0</td>\n",
       "    </tr>\n",
       "    <tr>\n",
       "      <th>4</th>\n",
       "      <td>100102017</td>\n",
       "      <td>10-01-2014</td>\n",
       "      <td>9.652346e+10</td>\n",
       "      <td>1</td>\n",
       "      <td>Unlock device so that it can used on a differe...</td>\n",
       "      <td>22.0</td>\n",
       "      <td>1</td>\n",
       "    </tr>\n",
       "  </tbody>\n",
       "</table>\n",
       "</div>"
      ],
      "text/plain": [
       "   Interaction Number  Date of Interaction   Account number   Issue  \\\n",
       "0            100102013           10-01-2014     1.009659e+10      8   \n",
       "1            100102014           10-01-2014     5.291498e+10      4   \n",
       "2            100102015           10-01-2014     3.163961e+10      6   \n",
       "3            100102016           10-01-2014     1.598096e+10     10   \n",
       "4            100102017           10-01-2014     9.652346e+10      1   \n",
       "\n",
       "                                     Issue in detail   AHT Churn  \n",
       "0                                    Screen damaged   20.0     1  \n",
       "1                                     Dropped calls   40.0     1  \n",
       "2                     Need a cheaper unlimited plan   50.0     0  \n",
       "3                            Upgrade to a new phone   37.0     0  \n",
       "4  Unlock device so that it can used on a differe...  22.0     1  "
      ]
     },
     "execution_count": 150,
     "metadata": {},
     "output_type": "execute_result"
    }
   ],
   "source": [
    "df.head()"
   ]
  },
  {
   "cell_type": "code",
   "execution_count": 151,
   "id": "bbfdeadb",
   "metadata": {
    "colab": {
     "base_uri": "https://localhost:8080/",
     "height": 285
    },
    "id": "bbfdeadb",
    "outputId": "a3520d2b-b1f5-44b9-d8fd-e183e3cc958a"
   },
   "outputs": [
    {
     "data": {
      "text/html": [
       "<div>\n",
       "<style scoped>\n",
       "    .dataframe tbody tr th:only-of-type {\n",
       "        vertical-align: middle;\n",
       "    }\n",
       "\n",
       "    .dataframe tbody tr th {\n",
       "        vertical-align: top;\n",
       "    }\n",
       "\n",
       "    .dataframe thead th {\n",
       "        text-align: right;\n",
       "    }\n",
       "</style>\n",
       "<table border=\"1\" class=\"dataframe\">\n",
       "  <thead>\n",
       "    <tr style=\"text-align: right;\">\n",
       "      <th></th>\n",
       "      <th>Interaction Number</th>\n",
       "      <th>Date of Interaction</th>\n",
       "      <th>Account number</th>\n",
       "      <th>Issue</th>\n",
       "      <th>Issue in detail</th>\n",
       "      <th>AHT</th>\n",
       "      <th>Churn</th>\n",
       "    </tr>\n",
       "  </thead>\n",
       "  <tbody>\n",
       "    <tr>\n",
       "      <th>245</th>\n",
       "      <td>100102263</td>\n",
       "      <td>10-07-2014</td>\n",
       "      <td>1.750000e+11</td>\n",
       "      <td>7</td>\n",
       "      <td>need to check call and text logs</td>\n",
       "      <td>20.55</td>\n",
       "      <td>1</td>\n",
       "    </tr>\n",
       "    <tr>\n",
       "      <th>246</th>\n",
       "      <td>100102264</td>\n",
       "      <td>10-07-2014</td>\n",
       "      <td>1.760000e+11</td>\n",
       "      <td>9</td>\n",
       "      <td>Charges to cancel my account</td>\n",
       "      <td>20.55</td>\n",
       "      <td>1</td>\n",
       "    </tr>\n",
       "    <tr>\n",
       "      <th>247</th>\n",
       "      <td>100102265</td>\n",
       "      <td>10-07-2014</td>\n",
       "      <td>1.770000e+11</td>\n",
       "      <td>5</td>\n",
       "      <td>payment extension</td>\n",
       "      <td>12.45</td>\n",
       "      <td>1</td>\n",
       "    </tr>\n",
       "    <tr>\n",
       "      <th>248</th>\n",
       "      <td>100102266</td>\n",
       "      <td>10-07-2014</td>\n",
       "      <td>1.780000e+11</td>\n",
       "      <td>2</td>\n",
       "      <td>Apps to backup text message</td>\n",
       "      <td>20.55</td>\n",
       "      <td>1</td>\n",
       "    </tr>\n",
       "    <tr>\n",
       "      <th>249</th>\n",
       "      <td>100102267</td>\n",
       "      <td>10-07-2014</td>\n",
       "      <td>1.854214e+10</td>\n",
       "      <td>5</td>\n",
       "      <td>payment extension</td>\n",
       "      <td>10.52</td>\n",
       "      <td>1</td>\n",
       "    </tr>\n",
       "  </tbody>\n",
       "</table>\n",
       "</div>"
      ],
      "text/plain": [
       "     Interaction Number  Date of Interaction   Account number   Issue  \\\n",
       "245            100102263           10-07-2014     1.750000e+11      7   \n",
       "246            100102264           10-07-2014     1.760000e+11      9   \n",
       "247            100102265           10-07-2014     1.770000e+11      5   \n",
       "248            100102266           10-07-2014     1.780000e+11      2   \n",
       "249            100102267           10-07-2014     1.854214e+10      5   \n",
       "\n",
       "                      Issue in detail    AHT Churn  \n",
       "245  need to check call and text logs  20.55     1  \n",
       "246     Charges to cancel my account   20.55     1  \n",
       "247                 payment extension  12.45     1  \n",
       "248      Apps to backup text message   20.55     1  \n",
       "249                 payment extension  10.52     1  "
      ]
     },
     "execution_count": 151,
     "metadata": {},
     "output_type": "execute_result"
    }
   ],
   "source": [
    "df.tail()"
   ]
  },
  {
   "cell_type": "code",
   "execution_count": 152,
   "id": "17d595f9",
   "metadata": {
    "colab": {
     "base_uri": "https://localhost:8080/"
    },
    "id": "17d595f9",
    "outputId": "704729b4-a777-48fe-fd45-2f7d49058f73"
   },
   "outputs": [
    {
     "data": {
      "text/plain": [
       "Interaction Number        int64\n",
       "Date of Interaction      object\n",
       "Account number          float64\n",
       "Issue                     int64\n",
       "Issue in detail          object\n",
       "AHT                     float64\n",
       "Churn                    object\n",
       "dtype: object"
      ]
     },
     "execution_count": 152,
     "metadata": {},
     "output_type": "execute_result"
    }
   ],
   "source": [
    "df.dtypes"
   ]
  },
  {
   "cell_type": "code",
   "execution_count": 153,
   "id": "7609d8ff",
   "metadata": {
    "colab": {
     "base_uri": "https://localhost:8080/"
    },
    "id": "7609d8ff",
    "outputId": "d20ff2f9-565c-4012-d5d3-7c4cce8e1df6"
   },
   "outputs": [
    {
     "name": "stdout",
     "output_type": "stream",
     "text": [
      "[[ 8]\n",
      " [ 4]\n",
      " [ 6]\n",
      " [10]\n",
      " [ 1]]\n",
      "[[1]\n",
      " [1]\n",
      " [0]\n",
      " [0]\n",
      " [1]]\n"
     ]
    }
   ],
   "source": [
    "new_df =df[['Issue','Churn']]\n",
    "X=np.array(df['Issue']).astype('int').reshape(-1,1)\n",
    "y=np.array(df['Churn']).astype('int').reshape(-1,1)\n",
    "print(X[0:5])\n",
    "print(y[:5])"
   ]
  },
  {
   "cell_type": "code",
   "execution_count": 24,
   "id": "e9b4e631",
   "metadata": {
    "id": "e9b4e631"
   },
   "outputs": [],
   "source": [
    "###Divide the data as TRAIN and Test"
   ]
  },
  {
   "cell_type": "code",
   "execution_count": 154,
   "id": "1939559e",
   "metadata": {
    "colab": {
     "base_uri": "https://localhost:8080/"
    },
    "id": "1939559e",
    "outputId": "2e09837e-824d-40b6-ba8d-af9b5d8c4921"
   },
   "outputs": [
    {
     "name": "stdout",
     "output_type": "stream",
     "text": [
      "(125, 1) (125, 1) (125, 1) (125, 1)\n"
     ]
    }
   ],
   "source": [
    "from sklearn.model_selection import train_test_split\n",
    "X_train,X_test,y_train,y_test= train_test_split(X,y,test_size=0.5,random_state=1)\n",
    "print(X_train.shape,y_train.shape,X_test.shape,y_test.shape)"
   ]
  },
  {
   "cell_type": "code",
   "execution_count": null,
   "id": "24dcc6a8",
   "metadata": {},
   "outputs": [],
   "source": [
    "# Machine learning libraries ( we will used different model and see which gives more accurate result )"
   ]
  },
  {
   "cell_type": "code",
   "execution_count": 155,
   "id": "b592d943",
   "metadata": {},
   "outputs": [],
   "source": [
    "# Machine Learning classification model libraries\n",
    "from sklearn.linear_model import LogisticRegression\n",
    "from sklearn.neighbors import KNeighborsClassifier\n",
    "from sklearn.svm import SVC\n",
    "from sklearn.tree import DecisionTreeClassifier\n",
    "from sklearn.ensemble import RandomForestClassifier\n",
    "from sklearn import metrics\n"
   ]
  },
  {
   "cell_type": "code",
   "execution_count": null,
   "id": "37ae8ea4",
   "metadata": {},
   "outputs": [],
   "source": [
    "#LOGISTIC REGRESSION MODEL"
   ]
  },
  {
   "cell_type": "code",
   "execution_count": 117,
   "id": "9d952c49",
   "metadata": {},
   "outputs": [
    {
     "name": "stderr",
     "output_type": "stream",
     "text": [
      "C:\\ProgramData\\Anaconda3\\lib\\site-packages\\sklearn\\utils\\validation.py:63: DataConversionWarning: A column-vector y was passed when a 1d array was expected. Please change the shape of y to (n_samples, ), for example using ravel().\n",
      "  return f(*args, **kwargs)\n"
     ]
    },
    {
     "data": {
      "text/plain": [
       "LogisticRegression(random_state=50)"
      ]
     },
     "execution_count": 117,
     "metadata": {},
     "output_type": "execute_result"
    }
   ],
   "source": [
    "logmodel=LogisticRegression(random_state=50)\n",
    "logmodel.fit(X_train,y_train)"
   ]
  },
  {
   "cell_type": "code",
   "execution_count": 156,
   "id": "ce348ca5",
   "metadata": {},
   "outputs": [],
   "source": [
    "pred=logmodel.predict(X_test)"
   ]
  },
  {
   "cell_type": "code",
   "execution_count": 157,
   "id": "d3990a41",
   "metadata": {},
   "outputs": [],
   "source": [
    "logmodel_accuracy = round(metrics.accuracy_score(y_test, pred) * 100, 2)"
   ]
  },
  {
   "cell_type": "code",
   "execution_count": 158,
   "id": "84d37186",
   "metadata": {},
   "outputs": [
    {
     "name": "stderr",
     "output_type": "stream",
     "text": [
      "C:\\ProgramData\\Anaconda3\\lib\\site-packages\\sklearn\\utils\\validation.py:63: DataConversionWarning: A column-vector y was passed when a 1d array was expected. Please change the shape of y to (n_samples, ), for example using ravel().\n",
      "  return f(*args, **kwargs)\n"
     ]
    }
   ],
   "source": [
    "#Fit the Support Vector Machine Model\n",
    "svcmodel = SVC(kernel='linear', random_state=50, probability=True)\n",
    "svcmodel.fit(X_train,y_train)\n",
    "\n",
    "#Predict the value for new, unseen data\n",
    "svc_pred = svcmodel.predict(X_test)\n",
    "\n",
    "# Find Accuracy using accuracy_score method\n",
    "svc_accuracy = round(metrics.accuracy_score(y_test, svc_pred) * 100, 2)"
   ]
  },
  {
   "cell_type": "code",
   "execution_count": 159,
   "id": "219477ff",
   "metadata": {},
   "outputs": [
    {
     "name": "stderr",
     "output_type": "stream",
     "text": [
      "C:\\ProgramData\\Anaconda3\\lib\\site-packages\\sklearn\\neighbors\\_classification.py:179: DataConversionWarning: A column-vector y was passed when a 1d array was expected. Please change the shape of y to (n_samples,), for example using ravel().\n",
      "  return self._fit(X, y)\n"
     ]
    }
   ],
   "source": [
    "#Fit the K-Nearest Neighbor Model\n",
    "from sklearn.neighbors import KNeighborsClassifier\n",
    "knnmodel = KNeighborsClassifier(n_neighbors=5, metric='minkowski', p=2) #p=2 represents Euclidean distance, p=1 represents Manhattan Distance\n",
    "knnmodel.fit(X_train, y_train) \n",
    "  \n",
    "#Predict the value for new, unseen data\n",
    "knn_pred = knnmodel.predict(X_test)\n",
    "\n",
    "# Find Accuracy using accuracy_score method\n",
    "knn_accuracy = round(metrics.accuracy_score(y_test, knn_pred) * 100, 2)\n"
   ]
  },
  {
   "cell_type": "code",
   "execution_count": 160,
   "id": "c6bdfb2b",
   "metadata": {},
   "outputs": [],
   "source": [
    "#Fit the Decision Tree Classification Model\n",
    "from sklearn.tree import DecisionTreeClassifier\n",
    "dtmodel = DecisionTreeClassifier(criterion = \"gini\", random_state = 50)\n",
    "dtmodel.fit(X_train, y_train) \n",
    "  \n",
    "#Predict the value for new, unseen data\n",
    "dt_pred = dtmodel.predict(X_test)\n",
    "\n",
    "# Find Accuracy using accuracy_score method\n",
    "dt_accuracy = round(metrics.accuracy_score(y_test, dt_pred) * 100, 2)"
   ]
  },
  {
   "cell_type": "code",
   "execution_count": 161,
   "id": "4cfffa9a",
   "metadata": {},
   "outputs": [
    {
     "name": "stderr",
     "output_type": "stream",
     "text": [
      "C:\\Users\\srini\\AppData\\Local\\Temp/ipykernel_12500/3498443462.py:4: DataConversionWarning: A column-vector y was passed when a 1d array was expected. Please change the shape of y to (n_samples,), for example using ravel().\n",
      "  rfmodel.fit(X_train, y_train)\n"
     ]
    }
   ],
   "source": [
    "#Fit the Random Forest Classification Model\n",
    "from sklearn.ensemble import RandomForestClassifier\n",
    "rfmodel = RandomForestClassifier(n_estimators = 100, criterion = 'entropy', random_state = 0)\n",
    "rfmodel.fit(X_train, y_train) \n",
    "  \n",
    "#Predict the value for new, unseen data\n",
    "rf_pred = rfmodel.predict(X_test)\n",
    "\n",
    "# Find Accuracy using accuracy_score method\n",
    "rf_accuracy = round(metrics.accuracy_score(y_test, rf_pred) * 100, 2)"
   ]
  },
  {
   "cell_type": "code",
   "execution_count": 162,
   "id": "4e07a7d1",
   "metadata": {},
   "outputs": [
    {
     "data": {
      "text/html": [
       "<div>\n",
       "<style scoped>\n",
       "    .dataframe tbody tr th:only-of-type {\n",
       "        vertical-align: middle;\n",
       "    }\n",
       "\n",
       "    .dataframe tbody tr th {\n",
       "        vertical-align: top;\n",
       "    }\n",
       "\n",
       "    .dataframe thead th {\n",
       "        text-align: right;\n",
       "    }\n",
       "</style>\n",
       "<table border=\"1\" class=\"dataframe\">\n",
       "  <thead>\n",
       "    <tr style=\"text-align: right;\">\n",
       "      <th></th>\n",
       "      <th>Score</th>\n",
       "      <th>Model</th>\n",
       "    </tr>\n",
       "  </thead>\n",
       "  <tbody>\n",
       "    <tr>\n",
       "      <th>0</th>\n",
       "      <td>79.2</td>\n",
       "      <td>Decision Tree</td>\n",
       "    </tr>\n",
       "    <tr>\n",
       "      <th>1</th>\n",
       "      <td>79.2</td>\n",
       "      <td>Random Forest</td>\n",
       "    </tr>\n",
       "    <tr>\n",
       "      <th>2</th>\n",
       "      <td>71.2</td>\n",
       "      <td>K-Nearest Neighbor</td>\n",
       "    </tr>\n",
       "    <tr>\n",
       "      <th>3</th>\n",
       "      <td>58.4</td>\n",
       "      <td>Logistic Regression</td>\n",
       "    </tr>\n",
       "    <tr>\n",
       "      <th>4</th>\n",
       "      <td>46.4</td>\n",
       "      <td>Support Vector Machine</td>\n",
       "    </tr>\n",
       "  </tbody>\n",
       "</table>\n",
       "</div>"
      ],
      "text/plain": [
       "   Score                   Model\n",
       "0   79.2           Decision Tree\n",
       "1   79.2           Random Forest\n",
       "2   71.2      K-Nearest Neighbor\n",
       "3   58.4     Logistic Regression\n",
       "4   46.4  Support Vector Machine"
      ]
     },
     "execution_count": 162,
     "metadata": {},
     "output_type": "execute_result"
    }
   ],
   "source": [
    "# Compare Several models according to their Accuracies\n",
    "Model_Comparison = pd.DataFrame({\n",
    "    'Model': ['Logistic Regression', 'Support Vector Machine', 'K-Nearest Neighbor', \n",
    "              'Decision Tree', 'Random Forest'],\n",
    "    'Score': [logmodel_accuracy, svc_accuracy, knn_accuracy, \n",
    "              dt_accuracy, rf_accuracy]})\n",
    "Model_Comparison_df = Model_Comparison.sort_values(by='Score', ascending=False)\n",
    "Model_Comparison_df = Model_Comparison_df.set_index('Score')\n",
    "Model_Comparison_df.reset_index()"
   ]
  },
  {
   "cell_type": "code",
   "execution_count": 163,
   "id": "ef159cbc",
   "metadata": {
    "colab": {
     "base_uri": "https://localhost:8080/"
    },
    "id": "ef159cbc",
    "outputId": "1152db9a-cf6f-4d41-92d1-fbc4cda17c78"
   },
   "outputs": [
    {
     "data": {
      "text/plain": [
       "array([[73,  0],\n",
       "       [52,  0]], dtype=int64)"
      ]
     },
     "execution_count": 163,
     "metadata": {},
     "output_type": "execute_result"
    }
   ],
   "source": [
    "#Confusion matrix for decision  model\n",
    "from sklearn.metrics import confusion_matrix\n",
    "conf_mat_dtmodel=confusion_matrix(y_test,pred)\n",
    "conf_mat_dtmodel"
   ]
  },
  {
   "cell_type": "code",
   "execution_count": null,
   "id": "61d87dbb",
   "metadata": {},
   "outputs": [],
   "source": []
  },
  {
   "cell_type": "code",
   "execution_count": 164,
   "id": "63fcfce4",
   "metadata": {},
   "outputs": [
    {
     "data": {
      "text/plain": [
       "['customer_churn_risk_predictor_model.pkl']"
      ]
     },
     "execution_count": 164,
     "metadata": {},
     "output_type": "execute_result"
    }
   ],
   "source": [
    "##Save MI Model\n",
    "import joblib\n",
    "joblib.dump(dtmodel,\"customer_churn_risk_predictor_model.pkl\")"
   ]
  },
  {
   "cell_type": "code",
   "execution_count": 165,
   "id": "ac19dbbf",
   "metadata": {},
   "outputs": [],
   "source": [
    "Churn_model=joblib.load(\"customer_churn_risk_predictor_model.pkl\")"
   ]
  },
  {
   "cell_type": "code",
   "execution_count": 166,
   "id": "6451cdb2",
   "metadata": {},
   "outputs": [],
   "source": [
    "a=[\"1:billing\",\"2=device\",\"3:International Plan\",\"4:Network\",\"5:Payment\",\"6:Plan\",\n",
    "   \"7:Registration\",\"8:Reapir\",\"9:Save\",\"10:Upgrade\"]"
   ]
  },
  {
   "cell_type": "code",
   "execution_count": 167,
   "id": "15c7ad11",
   "metadata": {},
   "outputs": [
    {
     "name": "stdout",
     "output_type": "stream",
     "text": [
      "['1:billing', '2=device', '3:International Plan', '4:Network', '5:Payment', '6:Plan', '7:Registration', '8:Reapir', '9:Save', '10:Upgrade']\n"
     ]
    }
   ],
   "source": [
    "print (a)"
   ]
  },
  {
   "cell_type": "code",
   "execution_count": 203,
   "id": "5959f08e",
   "metadata": {},
   "outputs": [],
   "source": [
    "a=[[4]]"
   ]
  },
  {
   "cell_type": "code",
   "execution_count": 204,
   "id": "d9f2da4b",
   "metadata": {},
   "outputs": [
    {
     "name": "stdout",
     "output_type": "stream",
     "text": [
      "[[4]]\n"
     ]
    }
   ],
   "source": [
    "print (a)"
   ]
  },
  {
   "cell_type": "code",
   "execution_count": 205,
   "id": "69aae7e7",
   "metadata": {},
   "outputs": [
    {
     "name": "stdout",
     "output_type": "stream",
     "text": [
      "[[4]]\n"
     ]
    }
   ],
   "source": [
    "print (a)"
   ]
  },
  {
   "cell_type": "code",
   "execution_count": 206,
   "id": "2c26d151",
   "metadata": {},
   "outputs": [
    {
     "data": {
      "text/plain": [
       "array([1])"
      ]
     },
     "execution_count": 206,
     "metadata": {},
     "output_type": "execute_result"
    }
   ],
   "source": [
    "Churn_model.predict(a)"
   ]
  },
  {
   "cell_type": "code",
   "execution_count": 207,
   "id": "99441711",
   "metadata": {},
   "outputs": [],
   "source": [
    "prediction=Churn_model.predict(a)"
   ]
  },
  {
   "cell_type": "code",
   "execution_count": 208,
   "id": "c0bd416d",
   "metadata": {},
   "outputs": [
    {
     "data": {
      "text/plain": [
       "array([1])"
      ]
     },
     "execution_count": 208,
     "metadata": {},
     "output_type": "execute_result"
    }
   ],
   "source": [
    "prediction"
   ]
  },
  {
   "cell_type": "code",
   "execution_count": 209,
   "id": "0c674aa7",
   "metadata": {},
   "outputs": [
    {
     "name": "stdout",
     "output_type": "stream",
     "text": [
      "Churn Risk is high\n"
     ]
    }
   ],
   "source": [
    "if prediction[0] == 1:\n",
    "  print('Churn Risk is high')\n",
    "else:\n",
    "  print('Churn Risk is low')\n",
    " "
   ]
  },
  {
   "cell_type": "code",
   "execution_count": null,
   "id": "baf8ea18",
   "metadata": {},
   "outputs": [],
   "source": []
  },
  {
   "cell_type": "code",
   "execution_count": null,
   "id": "668d31ce",
   "metadata": {},
   "outputs": [],
   "source": []
  },
  {
   "cell_type": "code",
   "execution_count": null,
   "id": "a1792ce0",
   "metadata": {},
   "outputs": [],
   "source": []
  },
  {
   "cell_type": "code",
   "execution_count": null,
   "id": "252acf7b",
   "metadata": {},
   "outputs": [],
   "source": []
  },
  {
   "cell_type": "code",
   "execution_count": null,
   "id": "ff9ab3c8",
   "metadata": {},
   "outputs": [],
   "source": []
  },
  {
   "cell_type": "code",
   "execution_count": null,
   "id": "8b92937b",
   "metadata": {},
   "outputs": [],
   "source": []
  },
  {
   "cell_type": "code",
   "execution_count": null,
   "id": "dc5f8378",
   "metadata": {},
   "outputs": [],
   "source": []
  },
  {
   "cell_type": "code",
   "execution_count": 97,
   "id": "4e0a2bef",
   "metadata": {},
   "outputs": [],
   "source": []
  },
  {
   "cell_type": "code",
   "execution_count": null,
   "id": "0fe8405a",
   "metadata": {},
   "outputs": [],
   "source": []
  },
  {
   "cell_type": "code",
   "execution_count": null,
   "id": "89c2b033",
   "metadata": {},
   "outputs": [],
   "source": []
  },
  {
   "cell_type": "code",
   "execution_count": null,
   "id": "ad6e7d3a",
   "metadata": {},
   "outputs": [],
   "source": []
  },
  {
   "cell_type": "code",
   "execution_count": null,
   "id": "e0e38501",
   "metadata": {},
   "outputs": [],
   "source": []
  },
  {
   "cell_type": "code",
   "execution_count": null,
   "id": "0f884e40",
   "metadata": {},
   "outputs": [],
   "source": []
  }
 ],
 "metadata": {
  "colab": {
   "collapsed_sections": [],
   "name": "Corrected code.ipynb",
   "provenance": []
  },
  "kernelspec": {
   "display_name": "Python 3 (ipykernel)",
   "language": "python",
   "name": "python3"
  },
  "language_info": {
   "codemirror_mode": {
    "name": "ipython",
    "version": 3
   },
   "file_extension": ".py",
   "mimetype": "text/x-python",
   "name": "python",
   "nbconvert_exporter": "python",
   "pygments_lexer": "ipython3",
   "version": "3.9.7"
  }
 },
 "nbformat": 4,
 "nbformat_minor": 5
}
